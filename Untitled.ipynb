{
 "cells": [
  {
   "cell_type": "code",
   "execution_count": 16,
   "metadata": {},
   "outputs": [],
   "source": [
    "# Import libraries\n",
    "import requests\n",
    "import urllib.request\n",
    "import time\n",
    "from bs4 import BeautifulSoup\n",
    "import csv\n"
   ]
  },
  {
   "cell_type": "code",
   "execution_count": 3,
   "metadata": {},
   "outputs": [],
   "source": [
    "# Set the URL you want to webscrape from\n",
    "url = 'https://www.screener.in/company/HEG/'"
   ]
  },
  {
   "cell_type": "code",
   "execution_count": 4,
   "metadata": {},
   "outputs": [],
   "source": [
    "import re\n",
    "\n",
    "TAG_RE = re.compile(r'<[^>]+>')\n",
    "\n",
    "def remove_tags(success):\n",
    "    return re.sub( r'<[^>]*>', ' ', success ).strip()"
   ]
  },
  {
   "cell_type": "code",
   "execution_count": 5,
   "metadata": {},
   "outputs": [],
   "source": [
    "# Connect to the URL\n",
    "response = requests.get(url)"
   ]
  },
  {
   "cell_type": "code",
   "execution_count": 6,
   "metadata": {},
   "outputs": [],
   "source": [
    "# Parse HTML and save to BeautifulSoup object¶\n",
    "soup = BeautifulSoup(response.text, \"html.parser\")"
   ]
  },
  {
   "cell_type": "code",
   "execution_count": 7,
   "metadata": {},
   "outputs": [],
   "source": [
    "#soup.findAll('a success')\n",
    "success = soup.find(\"div\", class_ = \"success\")\n"
   ]
  },
  {
   "cell_type": "code",
   "execution_count": 22,
   "metadata": {
    "scrolled": true
   },
   "outputs": [
    {
     "name": "stdout",
     "output_type": "stream",
     "text": [
      "7\n",
      "\n",
      "Pros:\n",
      "Stock is providing a good dividend yield of 6.68%.\n",
      "Company is expected to give good quarter\n",
      "Company has good consistent profit growth of 96.11% over 5 years\n",
      "Company has a good return on equity (ROE) track record: 3 Years ROE 80.96%\n",
      " \n",
      "\n",
      "['\\nPros:\\nStock is providing a good dividend yield of 6.68%.\\nCompany is expected to give good quarter\\nCompany has good consistent profit growth of 96.11% over 5 years\\nCompany has a good return on equity (ROE) track record: 3 Years ROE 80.96%\\n \\n']\n"
     ]
    }
   ],
   "source": [
    "success\n",
    "text = success.get_text()\n",
    "#print(text)\n",
    "#test = success.find_elements_by_xpath(\"div\")\n",
    "#count_of_divs = len(success.find_elements_by_xpath(\"div\"))\n",
    "#count_of_divs\n",
    "#test\n",
    "print(text.count(\"\\n\")) \n",
    "print(text)\n",
    "text_list =  [text]\n",
    "print(text_list)"
   ]
  },
  {
   "cell_type": "code",
   "execution_count": 25,
   "metadata": {},
   "outputs": [
    {
     "data": {
      "text/plain": [
       "\"with open('people.csv', 'w') as writeFile:\\n    writer = csv.writer(writeFile)\\n    writer.writerows(text_list)\\n    \\nwriteFile.close()\\n\""
      ]
     },
     "execution_count": 25,
     "metadata": {},
     "output_type": "execute_result"
    }
   ],
   "source": [
    "'''with open('people.csv', 'w') as writeFile:\n",
    "    writer = csv.writer(writeFile)\n",
    "    writer.writerows(text_list)\n",
    "    \n",
    "writeFile.close()\n",
    "'''\n",
    "\n"
   ]
  },
  {
   "cell_type": "code",
   "execution_count": 34,
   "metadata": {},
   "outputs": [],
   "source": [
    "total_points = text.count(\"\\n\")\n",
    "final = url + \"\\t\" + str(total_points)\n",
    "file1 = open(\"myfile.txt\",\"w\") \n",
    "file1.write(final) \n",
    "file1.close() \n",
    "\n"
   ]
  },
  {
   "cell_type": "code",
   "execution_count": 31,
   "metadata": {},
   "outputs": [
    {
     "name": "stdout",
     "output_type": "stream",
     "text": [
      "7\n"
     ]
    }
   ],
   "source": [
    "print(text.count(\"\\n\")) "
   ]
  },
  {
   "cell_type": "code",
   "execution_count": null,
   "metadata": {},
   "outputs": [],
   "source": []
  }
 ],
 "metadata": {
  "kernelspec": {
   "display_name": "Python 3",
   "language": "python",
   "name": "python3"
  },
  "language_info": {
   "codemirror_mode": {
    "name": "ipython",
    "version": 3
   },
   "file_extension": ".py",
   "mimetype": "text/x-python",
   "name": "python",
   "nbconvert_exporter": "python",
   "pygments_lexer": "ipython3",
   "version": "3.6.5"
  }
 },
 "nbformat": 4,
 "nbformat_minor": 2
}
