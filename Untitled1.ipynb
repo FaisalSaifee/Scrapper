{
 "cells": [
  {
   "cell_type": "code",
   "execution_count": 2,
   "metadata": {},
   "outputs": [
    {
     "name": "stdout",
     "output_type": "stream",
     "text": [
      "http://www.example.com/eg1\n",
      "Content1\n",
      "http://image.example.com/img1.jpg\n",
      "http://www.example.com/eg2\n",
      "Content2\n",
      "http://image.example.com/img2.jpg\n"
     ]
    },
    {
     "name": "stderr",
     "output_type": "stream",
     "text": [
      "C:\\ProgramData\\Anaconda3\\lib\\site-packages\\bs4\\__init__.py:181: UserWarning: No parser was explicitly specified, so I'm using the best available HTML parser for this system (\"lxml\"). This usually isn't a problem, but if you run this code on another system, or in a different virtual environment, it may use a different parser and behave differently.\n",
      "\n",
      "The code that caused this warning is on line 193 of the file C:\\ProgramData\\Anaconda3\\lib\\runpy.py. To get rid of this warning, change code that looks like this:\n",
      "\n",
      " BeautifulSoup(YOUR_MARKUP})\n",
      "\n",
      "to this:\n",
      "\n",
      " BeautifulSoup(YOUR_MARKUP, \"lxml\")\n",
      "\n",
      "  markup_type=markup_type))\n"
     ]
    }
   ],
   "source": [
    "# Import libraries\n",
    "import requests\n",
    "import urllib.request\n",
    "import time\n",
    "from bs4 import BeautifulSoup\n",
    "import csv\n",
    "import re\n",
    "import pandas as pd \n",
    "import time\n",
    "\n",
    "data = '''<div class=\"image\">\n",
    "        <a href=\"http://www.example.com/eg1\">Content1<img  \n",
    "        src=\"http://image.example.com/img1.jpg\" /></a>\n",
    "        </div>\n",
    "        <div class=\"image\">\n",
    "        <a href=\"http://www.example.com/eg2\">Content2<img  \n",
    "        src=\"http://image.example.com/img2.jpg\" /> </a>\n",
    "        </div>'''\n",
    "\n",
    "soup = BeautifulSoup(data)\n",
    "\n",
    "for div in soup.findAll('div', attrs={'class':'image'}):\n",
    "    print(div.find('a')['href'])\n",
    "    print(div.find('a').contents[0])\n",
    "    print(div.find('img')['src'])"
   ]
  },
  {
   "cell_type": "code",
   "execution_count": null,
   "metadata": {},
   "outputs": [],
   "source": []
  }
 ],
 "metadata": {
  "kernelspec": {
   "display_name": "Python 3",
   "language": "python",
   "name": "python3"
  },
  "language_info": {
   "codemirror_mode": {
    "name": "ipython",
    "version": 3
   },
   "file_extension": ".py",
   "mimetype": "text/x-python",
   "name": "python",
   "nbconvert_exporter": "python",
   "pygments_lexer": "ipython3",
   "version": "3.6.5"
  }
 },
 "nbformat": 4,
 "nbformat_minor": 2
}
