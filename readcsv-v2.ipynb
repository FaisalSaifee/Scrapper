{
 "cells": [
  {
   "cell_type": "code",
   "execution_count": 1,
   "metadata": {},
   "outputs": [
    {
     "name": "stdout",
     "output_type": "stream",
     "text": [
      "https://www.screener.in/company/SGL/\n",
      "https://www.screener.in/company/523519/\n",
      "https://www.screener.in/company/533149/\n",
      "https://www.screener.in/company/526737/\n",
      "https://www.screener.in/company/HEG/\n"
     ]
    },
    {
     "data": {
      "text/plain": [
       "'TAG_RE = re.compile(r\\'<[^>]+>\\')\\n\\ndef remove_tags(success):\\n    return re.sub( r\\'<[^>]*>\\', \\' \\', success ).strip()\\n\\n\\nsuccess\\ntext = success.get_text()\\nprint(text.count(\"\\n\")) \\nprint(text)\\ntext_list =  [text]\\nprint(text_list)\\n\\ntotal_points = text.count(\"\\n\")\\nfinal = url + \"\\t\" + str(total_points)\\n#file1 = open(\"myfile.txt\",\"w\") \\nfile1 = open(\"myfile.txt\",\"a+\") \\nfile1.write(\"\\n\") \\nfile1.write(final) \\nfile1.close() \\n'"
      ]
     },
     "execution_count": 1,
     "metadata": {},
     "output_type": "execute_result"
    }
   ],
   "source": [
    "# Import libraries\n",
    "import requests\n",
    "import urllib.request\n",
    "import time\n",
    "from bs4 import BeautifulSoup\n",
    "import csv\n",
    "import re\n",
    "import pandas as pd \n",
    "import time\n",
    "\n",
    "\n",
    "#Code for CSV starts from here\n",
    "\n",
    "data = pd.read_csv(\"url_list.csv\")\n",
    "\n",
    "\n",
    "for index, row in data.iterrows(): \n",
    "    time.sleep(2)\n",
    "    print (row[\"url\"])\n",
    "    # Set the URL you want to webscrape from\n",
    "    url = row[\"url\"]\n",
    "    # Connect to the URL\n",
    "    response = requests.get(url)\n",
    "\n",
    "    # Parse HTML and save to BeautifulSoup object¶\n",
    "    soup = BeautifulSoup(response.text, \"html.parser\")\n",
    "\n",
    "    #soup.findAll('a success')\n",
    "    success = soup.find(\"div\", class_ = \"success\")\n",
    "    warning = soup.find(\"div\", class_ = \"warning\")\n",
    "    text_warning = warning.get_text()\n",
    "    text = success.get_text()\n",
    "    total_points = text.count(\"\\n\")\n",
    "    total_points = total_points -2\n",
    "    warning_total_points = text_warning.count(\"\\n\")\n",
    "    warning_total_points = warning_total_points - 2\n",
    "    final = url + \"\\t\" + str(total_points) + \"\\t\" + str(warning_total_points)\n",
    "    #file1 = open(\"myfile.txt\",\"w\") \n",
    "    file1 = open(\"myfile.txt\",\"a+\") \n",
    "    file1.write(\"\\n\") \n",
    "    file1.write(final) \n",
    "    file1.close() \n",
    "    \n",
    "'''TAG_RE = re.compile(r'<[^>]+>')\n",
    "\n",
    "def remove_tags(success):\n",
    "    return re.sub( r'<[^>]*>', ' ', success ).strip()\n",
    "\n",
    "\n",
    "success\n",
    "text = success.get_text()\n",
    "print(text.count(\"\\n\")) \n",
    "print(text)\n",
    "text_list =  [text]\n",
    "print(text_list)\n",
    "\n",
    "total_points = text.count(\"\\n\")\n",
    "final = url + \"\\t\" + str(total_points)\n",
    "#file1 = open(\"myfile.txt\",\"w\") \n",
    "file1 = open(\"myfile.txt\",\"a+\") \n",
    "file1.write(\"\\n\") \n",
    "file1.write(final) \n",
    "file1.close() \n",
    "'''"
   ]
  },
  {
   "cell_type": "code",
   "execution_count": null,
   "metadata": {},
   "outputs": [],
   "source": []
  }
 ],
 "metadata": {
  "kernelspec": {
   "display_name": "Python 3",
   "language": "python",
   "name": "python3"
  },
  "language_info": {
   "codemirror_mode": {
    "name": "ipython",
    "version": 3
   },
   "file_extension": ".py",
   "mimetype": "text/x-python",
   "name": "python",
   "nbconvert_exporter": "python",
   "pygments_lexer": "ipython3",
   "version": "3.6.5"
  }
 },
 "nbformat": 4,
 "nbformat_minor": 2
}
