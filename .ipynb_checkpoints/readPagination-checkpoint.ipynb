{
 "cells": [
  {
   "cell_type": "code",
   "execution_count": 6,
   "metadata": {},
   "outputs": [
    {
     "name": "stdout",
     "output_type": "stream",
     "text": [
      "?page=2\n",
      "?page=12\n",
      "siteUrl\n",
      "siteUrl\n",
      "siteUrl\n"
     ]
    }
   ],
   "source": [
    "# Import libraries\n",
    "import requests\n",
    "import urllib.request\n",
    "import time\n",
    "from bs4 import BeautifulSoup\n",
    "import csv\n",
    "import re\n",
    "import pandas as pd \n",
    "import time\n",
    "\n",
    "\n",
    "# Set the URL you want to webscrape from\n",
    "url = 'https://www.screener.in/screens/1/The-Bull-Cartel/'\n",
    "# Connect to the URL\n",
    "response = requests.get(url)\n",
    "\n",
    "soup = BeautifulSoup(response.text, \"html.parser\")\n",
    "for dataV1 in soup.findAll('div', attrs={'class':'options'}):\n",
    "     for a in dataV1.find_all('a'):\n",
    "        siteUrl = a.get('href')\n",
    "        #print(siteUrl)\n",
    "        if \"?page=\" in siteUrl: \n",
    "            print(siteUrl)\n",
    "            #finalSiteUrl = \"https://www.screener.in\" + siteUrl\n",
    "            #print(finalSiteUrl)\n",
    "        else:\n",
    "            print(\"siteUrl\")\n",
    "    #print(dataV1.find('a'))\n",
    "    #print(dataV1)"
   ]
  },
  {
   "cell_type": "code",
   "execution_count": null,
   "metadata": {},
   "outputs": [],
   "source": []
  }
 ],
 "metadata": {
  "kernelspec": {
   "display_name": "Python 3",
   "language": "python",
   "name": "python3"
  },
  "language_info": {
   "codemirror_mode": {
    "name": "ipython",
    "version": 3
   },
   "file_extension": ".py",
   "mimetype": "text/x-python",
   "name": "python",
   "nbconvert_exporter": "python",
   "pygments_lexer": "ipython3",
   "version": "3.6.5"
  }
 },
 "nbformat": 4,
 "nbformat_minor": 2
}
