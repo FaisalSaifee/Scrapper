{
 "cells": [
  {
   "cell_type": "code",
   "execution_count": 14,
   "metadata": {},
   "outputs": [
    {
     "name": "stdout",
     "output_type": "stream",
     "text": [
      "                                       url\n",
      "0     https://www.screener.in/company/SGL/\n",
      "1  https://www.screener.in/company/523519/\n",
      "2  https://www.screener.in/company/533149/\n",
      "3  https://www.screener.in/company/526737/\n",
      "https://www.screener.in/company/SGL/\n",
      "https://www.screener.in/company/523519/\n",
      "https://www.screener.in/company/533149/\n",
      "https://www.screener.in/company/526737/\n",
      "7\n",
      "\n",
      "Pros:\n",
      "Stock is providing a good dividend yield of 6.91%.\n",
      "Company is expected to give good quarter\n",
      "Company has good consistent profit growth of 96.11% over 5 years\n",
      "Company has a good return on equity (ROE) track record: 3 Years ROE 80.96%\n",
      " \n",
      "\n",
      "['\\nPros:\\nStock is providing a good dividend yield of 6.91%.\\nCompany is expected to give good quarter\\nCompany has good consistent profit growth of 96.11% over 5 years\\nCompany has a good return on equity (ROE) track record: 3 Years ROE 80.96%\\n \\n']\n"
     ]
    }
   ],
   "source": [
    "# Import libraries\n",
    "import requests\n",
    "import urllib.request\n",
    "import time\n",
    "from bs4 import BeautifulSoup\n",
    "import csv\n",
    "import re\n",
    "import pandas as pd \n",
    "\n",
    "\n",
    "#Code for CSV starts from here\n",
    "\n",
    "data = pd.read_csv(\"url_list.csv\")\n",
    "print(data)\n",
    "\n",
    "for index, row in data.iterrows(): \n",
    "    print (row[\"url\"])\n",
    "\n",
    "# Set the URL you want to webscrape from\n",
    "url = 'https://www.screener.in/company/HEG/'\n",
    "\n",
    "TAG_RE = re.compile(r'<[^>]+>')\n",
    "\n",
    "def remove_tags(success):\n",
    "    return re.sub( r'<[^>]*>', ' ', success ).strip()\n",
    "\n",
    "# Connect to the URL\n",
    "response = requests.get(url)\n",
    "\n",
    "# Parse HTML and save to BeautifulSoup object¶\n",
    "soup = BeautifulSoup(response.text, \"html.parser\")\n",
    "\n",
    "#soup.findAll('a success')\n",
    "success = soup.find(\"div\", class_ = \"success\")\n",
    "\n",
    "success\n",
    "text = success.get_text()\n",
    "print(text.count(\"\\n\")) \n",
    "print(text)\n",
    "text_list =  [text]\n",
    "print(text_list)\n",
    "\n",
    "total_points = text.count(\"\\n\")\n",
    "final = url + \"\\t\" + str(total_points)\n",
    "#file1 = open(\"myfile.txt\",\"w\") \n",
    "file1 = open(\"myfile.txt\",\"a+\") \n",
    "file1.write(\"\\n\") \n",
    "file1.write(final) \n",
    "file1.close() \n"
   ]
  },
  {
   "cell_type": "code",
   "execution_count": 11,
   "metadata": {},
   "outputs": [
    {
     "name": "stdout",
     "output_type": "stream",
     "text": [
      "      https://www.screener.in/company/SGL/\n",
      "0  https://www.screener.in/company/523519/\n",
      "1  https://www.screener.in/company/533149/\n",
      "2  https://www.screener.in/company/526737/\n"
     ]
    }
   ],
   "source": [
    "data = pd.read_csv(\"url_list.csv\")\n",
    "print(data)"
   ]
  },
  {
   "cell_type": "code",
   "execution_count": null,
   "metadata": {},
   "outputs": [],
   "source": []
  }
 ],
 "metadata": {
  "kernelspec": {
   "display_name": "Python 3",
   "language": "python",
   "name": "python3"
  },
  "language_info": {
   "codemirror_mode": {
    "name": "ipython",
    "version": 3
   },
   "file_extension": ".py",
   "mimetype": "text/x-python",
   "name": "python",
   "nbconvert_exporter": "python",
   "pygments_lexer": "ipython3",
   "version": "3.6.5"
  }
 },
 "nbformat": 4,
 "nbformat_minor": 2
}
