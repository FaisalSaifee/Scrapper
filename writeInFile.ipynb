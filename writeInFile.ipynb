{
 "cells": [
  {
   "cell_type": "code",
   "execution_count": 11,
   "metadata": {},
   "outputs": [
    {
     "name": "stdout",
     "output_type": "stream",
     "text": [
      "https://www.screener.in/company/DFMFOODS/\n",
      "final\n"
     ]
    }
   ],
   "source": [
    "# Import libraries\n",
    "import requests\n",
    "import urllib.request\n",
    "import time\n",
    "from bs4 import BeautifulSoup\n",
    "import csv\n",
    "import re\n",
    "import pandas as pd \n",
    "\n",
    "\n",
    "def write_in_file(siteUrl):\n",
    "    finalSiteUrl = \"https://www.screener.in\" + siteUrl\n",
    "    print(finalSiteUrl)\n",
    "    time.sleep(1)\n",
    "    print(\"final\")\n",
    "    responseOne = requests.get(finalSiteUrl)\n",
    "    soupOne = BeautifulSoup(responseOne.text, \"html.parser\")\n",
    "    \n",
    "    success = soupOne.find(\"div\", class_ = \"success\")\n",
    "    warning = soupOne.find(\"div\", class_ = \"warning\")\n",
    "    text_warning = warning.get_text()\n",
    "    text = success.get_text()\n",
    "    total_points = text.count(\"\\n\")\n",
    "    total_points = total_points -2\n",
    "    warning_total_points = text_warning.count(\"\\n\")\n",
    "    warning_total_points = warning_total_points - 2\n",
    "    final = finalSiteUrl + \"\\t\" + str(total_points) + \"\\t\" + str(warning_total_points)\n",
    "    \n",
    "    #file1 = open(\"myfile.txt\",\"w\") \n",
    "    file1 = open(\"myfile.txt\",\"a+\") \n",
    "    file1.write(\"\\n\") \n",
    "    file1.write(final) \n",
    "    file1.close() \n",
    "\n",
    "write_in_file(\"/company/DFMFOODS/\")"
   ]
  },
  {
   "cell_type": "code",
   "execution_count": null,
   "metadata": {},
   "outputs": [],
   "source": []
  }
 ],
 "metadata": {
  "kernelspec": {
   "display_name": "Python 3",
   "language": "python",
   "name": "python3"
  },
  "language_info": {
   "codemirror_mode": {
    "name": "ipython",
    "version": 3
   },
   "file_extension": ".py",
   "mimetype": "text/x-python",
   "name": "python",
   "nbconvert_exporter": "python",
   "pygments_lexer": "ipython3",
   "version": "3.6.5"
  }
 },
 "nbformat": 4,
 "nbformat_minor": 2
}
