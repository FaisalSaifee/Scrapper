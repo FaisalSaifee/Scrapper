{
 "cells": [
  {
   "cell_type": "markdown",
   "metadata": {},
   "source": [
    "Read CSV url"
   ]
  },
  {
   "cell_type": "code",
   "execution_count": 12,
   "metadata": {},
   "outputs": [
    {
     "name": "stdout",
     "output_type": "stream",
     "text": [
      "https://www.screener.in/screens/1/The-Bull-Cartel/\n",
      "12\n",
      "https://www.screener.in/screens/178/Growth-Stocks/\n",
      "3\n",
      "https://www.screener.in/screens/182/Undervalued-Growth-Stocks/\n",
      "https://www.screener.in/screens/49/Loss-to-Profit-Companies/\n",
      "4\n"
     ]
    }
   ],
   "source": [
    "# Import libraries\n",
    "import requests\n",
    "import urllib.request\n",
    "import time\n",
    "from bs4 import BeautifulSoup\n",
    "import csv\n",
    "import re\n",
    "import pandas as pd \n",
    "import time\n",
    "\n",
    "#Code for CSV starts from here\n",
    "\n",
    "data = pd.read_csv(\"SeedUrl.csv\")\n",
    "\n",
    "for index, row in data.iterrows(): \n",
    "    time.sleep(2)\n",
    "    url = row[\"url\"]\n",
    "    print (url)\n",
    "    # Connect to the URL\n",
    "    response = requests.get(url)\n",
    "    \n",
    "    soup = BeautifulSoup(response.text, \"html.parser\")\n",
    "    for dataV1 in soup.findAll('div', attrs={'class':'options'}):\n",
    "         for a in dataV1.find_all('a'):\n",
    "            siteUrl = a.get('href')\n",
    "            # print(siteUrl)\n",
    "            \n",
    "            if \"?page=\" in siteUrl: \n",
    "                #print(siteUrl)\n",
    "                counter = siteUrl.replace('?page=', '')\n",
    "                if(int(counter) > 2):\n",
    "                    print(counter)"
   ]
  },
  {
   "cell_type": "code",
   "execution_count": null,
   "metadata": {},
   "outputs": [],
   "source": []
  }
 ],
 "metadata": {
  "kernelspec": {
   "display_name": "Python 3",
   "language": "python",
   "name": "python3"
  },
  "language_info": {
   "codemirror_mode": {
    "name": "ipython",
    "version": 3
   },
   "file_extension": ".py",
   "mimetype": "text/x-python",
   "name": "python",
   "nbconvert_exporter": "python",
   "pygments_lexer": "ipython3",
   "version": "3.6.5"
  }
 },
 "nbformat": 4,
 "nbformat_minor": 2
}
